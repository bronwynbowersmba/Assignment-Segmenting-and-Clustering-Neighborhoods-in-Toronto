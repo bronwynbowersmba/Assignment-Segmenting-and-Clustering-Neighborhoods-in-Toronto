{
    "cells": [
        {
            "cell_type": "markdown",
            "metadata": {},
            "source": "# Assignment: Segmenting and Clustering Neighborhoods in Toronto"
        },
        {
            "cell_type": "markdown",
            "metadata": {},
            "source": "## Part 3"
        },
        {
            "cell_type": "code",
            "execution_count": 1,
            "metadata": {},
            "outputs": [
                {
                    "name": "stdout",
                    "output_type": "stream",
                    "text": "Libraries imported.\n"
                }
            ],
            "source": "import pandas as pd\nimport numpy as np\nimport requests\nfrom bs4 import BeautifulSoup\nimport os\nfrom sklearn.cluster import KMeans\nimport folium \nfrom geopy.geocoders import Nominatim \nimport matplotlib.cm as cm\nimport matplotlib.colors as colors\n\n\nprint('Libraries imported.')"
        },
        {
            "cell_type": "code",
            "execution_count": 2,
            "metadata": {},
            "outputs": [
                {
                    "name": "stdout",
                    "output_type": "stream",
                    "text": "done!\n"
                }
            ],
            "source": "\nURL = 'https://en.wikipedia.org/wiki/List_of_postal_codes_of_Canada:_M' \nresponse= requests.get(URL) \nsoup = BeautifulSoup(response.text ,'html.parser')\nprint(\"done!\")"
        },
        {
            "cell_type": "code",
            "execution_count": 3,
            "metadata": {},
            "outputs": [
                {
                    "data": {
                        "text/html": "<div>\n<style scoped>\n    .dataframe tbody tr th:only-of-type {\n        vertical-align: middle;\n    }\n\n    .dataframe tbody tr th {\n        vertical-align: top;\n    }\n\n    .dataframe thead th {\n        text-align: right;\n    }\n</style>\n<table border=\"1\" class=\"dataframe\">\n  <thead>\n    <tr style=\"text-align: right;\">\n      <th></th>\n      <th>PostalCode</th>\n      <th>Borough</th>\n      <th>Neigbourhood</th>\n    </tr>\n  </thead>\n  <tbody>\n    <tr>\n      <th>0</th>\n      <td>M1A</td>\n      <td>Not assigned</td>\n      <td>Not assigned</td>\n    </tr>\n    <tr>\n      <th>1</th>\n      <td>M2A</td>\n      <td>Not assigned</td>\n      <td>Not assigned</td>\n    </tr>\n    <tr>\n      <th>2</th>\n      <td>M3A</td>\n      <td>North York</td>\n      <td>Parkwoods</td>\n    </tr>\n    <tr>\n      <th>3</th>\n      <td>M4A</td>\n      <td>North York</td>\n      <td>Victoria Village</td>\n    </tr>\n    <tr>\n      <th>4</th>\n      <td>M5A</td>\n      <td>Downtown Toronto</td>\n      <td>Regent Park, Harbourfront</td>\n    </tr>\n    <tr>\n      <th>...</th>\n      <td>...</td>\n      <td>...</td>\n      <td>...</td>\n    </tr>\n    <tr>\n      <th>175</th>\n      <td>M5Z</td>\n      <td>Not assigned</td>\n      <td>Not assigned</td>\n    </tr>\n    <tr>\n      <th>176</th>\n      <td>M6Z</td>\n      <td>Not assigned</td>\n      <td>Not assigned</td>\n    </tr>\n    <tr>\n      <th>177</th>\n      <td>M7Z</td>\n      <td>Not assigned</td>\n      <td>Not assigned</td>\n    </tr>\n    <tr>\n      <th>178</th>\n      <td>M8Z</td>\n      <td>Etobicoke</td>\n      <td>Mimico NW, The Queensway West, South of Bloor,...</td>\n    </tr>\n    <tr>\n      <th>179</th>\n      <td>M9Z</td>\n      <td>Not assigned</td>\n      <td>Not assigned</td>\n    </tr>\n  </tbody>\n</table>\n<p>180 rows \u00d7 3 columns</p>\n</div>",
                        "text/plain": "    PostalCode           Borough  \\\n0          M1A      Not assigned   \n1          M2A      Not assigned   \n2          M3A        North York   \n3          M4A        North York   \n4          M5A  Downtown Toronto   \n..         ...               ...   \n175        M5Z      Not assigned   \n176        M6Z      Not assigned   \n177        M7Z      Not assigned   \n178        M8Z         Etobicoke   \n179        M9Z      Not assigned   \n\n                                          Neigbourhood  \n0                                         Not assigned  \n1                                         Not assigned  \n2                                            Parkwoods  \n3                                     Victoria Village  \n4                            Regent Park, Harbourfront  \n..                                                 ...  \n175                                       Not assigned  \n176                                       Not assigned  \n177                                       Not assigned  \n178  Mimico NW, The Queensway West, South of Bloor,...  \n179                                       Not assigned  \n\n[180 rows x 3 columns]"
                    },
                    "execution_count": 3,
                    "metadata": {},
                    "output_type": "execute_result"
                }
            ],
            "source": "table= soup.find('table')\nPostalCode   = []\nBorough      = [] \nNeighbourhood = []\n \nTD = table.find_all('td')\nfor i in range (0, len(TD), 3 ):\n    PostalCode.append(TD[i].text.strip())\n    Borough.append(TD[i+1].text.strip())\n    Neighbourhood.append(TD[i+2].text.strip() )\n    \n    \nToronto = pd.DataFrame(data=[PostalCode, Borough, Neighbourhood]).transpose()\nToronto.columns = ['PostalCode', 'Borough', 'Neigbourhood']\nToronto"
        },
        {
            "cell_type": "code",
            "execution_count": 4,
            "metadata": {},
            "outputs": [
                {
                    "data": {
                        "text/html": "<div>\n<style scoped>\n    .dataframe tbody tr th:only-of-type {\n        vertical-align: middle;\n    }\n\n    .dataframe tbody tr th {\n        vertical-align: top;\n    }\n\n    .dataframe thead th {\n        text-align: right;\n    }\n</style>\n<table border=\"1\" class=\"dataframe\">\n  <thead>\n    <tr style=\"text-align: right;\">\n      <th></th>\n      <th>PostalCode</th>\n      <th>Borough</th>\n      <th>Neigbourhood</th>\n    </tr>\n  </thead>\n  <tbody>\n    <tr>\n      <th>2</th>\n      <td>M3A</td>\n      <td>North York</td>\n      <td>Parkwoods</td>\n    </tr>\n    <tr>\n      <th>3</th>\n      <td>M4A</td>\n      <td>North York</td>\n      <td>Victoria Village</td>\n    </tr>\n    <tr>\n      <th>4</th>\n      <td>M5A</td>\n      <td>Downtown Toronto</td>\n      <td>Regent Park, Harbourfront</td>\n    </tr>\n    <tr>\n      <th>5</th>\n      <td>M6A</td>\n      <td>North York</td>\n      <td>Lawrence Manor, Lawrence Heights</td>\n    </tr>\n    <tr>\n      <th>6</th>\n      <td>M7A</td>\n      <td>Downtown Toronto</td>\n      <td>Queen's Park, Ontario Provincial Government</td>\n    </tr>\n  </tbody>\n</table>\n</div>",
                        "text/plain": "  PostalCode           Borough                                 Neigbourhood\n2        M3A        North York                                    Parkwoods\n3        M4A        North York                             Victoria Village\n4        M5A  Downtown Toronto                    Regent Park, Harbourfront\n5        M6A        North York             Lawrence Manor, Lawrence Heights\n6        M7A  Downtown Toronto  Queen's Park, Ontario Provincial Government"
                    },
                    "execution_count": 4,
                    "metadata": {},
                    "output_type": "execute_result"
                }
            ],
            "source": "Toronto['Borough'].replace('Not assigned' , np.nan, inplace= True)\nToronto.dropna( subset =['Borough'], inplace= True)\nToronto.head()"
        },
        {
            "cell_type": "code",
            "execution_count": 5,
            "metadata": {},
            "outputs": [
                {
                    "data": {
                        "text/html": "<div>\n<style scoped>\n    .dataframe tbody tr th:only-of-type {\n        vertical-align: middle;\n    }\n\n    .dataframe tbody tr th {\n        vertical-align: top;\n    }\n\n    .dataframe thead th {\n        text-align: right;\n    }\n</style>\n<table border=\"1\" class=\"dataframe\">\n  <thead>\n    <tr style=\"text-align: right;\">\n      <th></th>\n      <th>PostalCode</th>\n      <th>Borough</th>\n      <th>Neigbourhood</th>\n    </tr>\n  </thead>\n  <tbody>\n    <tr>\n      <th>0</th>\n      <td>M1B</td>\n      <td>Scarborough</td>\n      <td>Malvern, Rouge</td>\n    </tr>\n    <tr>\n      <th>1</th>\n      <td>M1C</td>\n      <td>Scarborough</td>\n      <td>Rouge Hill, Port Union, Highland Creek</td>\n    </tr>\n    <tr>\n      <th>2</th>\n      <td>M1E</td>\n      <td>Scarborough</td>\n      <td>Guildwood, Morningside, West Hill</td>\n    </tr>\n    <tr>\n      <th>3</th>\n      <td>M1G</td>\n      <td>Scarborough</td>\n      <td>Woburn</td>\n    </tr>\n    <tr>\n      <th>4</th>\n      <td>M1H</td>\n      <td>Scarborough</td>\n      <td>Cedarbrae</td>\n    </tr>\n    <tr>\n      <th>...</th>\n      <td>...</td>\n      <td>...</td>\n      <td>...</td>\n    </tr>\n    <tr>\n      <th>98</th>\n      <td>M9N</td>\n      <td>York</td>\n      <td>Weston</td>\n    </tr>\n    <tr>\n      <th>99</th>\n      <td>M9P</td>\n      <td>Etobicoke</td>\n      <td>Westmount</td>\n    </tr>\n    <tr>\n      <th>100</th>\n      <td>M9R</td>\n      <td>Etobicoke</td>\n      <td>Kingsview Village, St. Phillips, Martin Grove ...</td>\n    </tr>\n    <tr>\n      <th>101</th>\n      <td>M9V</td>\n      <td>Etobicoke</td>\n      <td>South Steeles, Silverstone, Humbergate, Jamest...</td>\n    </tr>\n    <tr>\n      <th>102</th>\n      <td>M9W</td>\n      <td>Etobicoke</td>\n      <td>Northwest, West Humber - Clairville</td>\n    </tr>\n  </tbody>\n</table>\n<p>103 rows \u00d7 3 columns</p>\n</div>",
                        "text/plain": "    PostalCode      Borough                                       Neigbourhood\n0          M1B  Scarborough                                     Malvern, Rouge\n1          M1C  Scarborough             Rouge Hill, Port Union, Highland Creek\n2          M1E  Scarborough                  Guildwood, Morningside, West Hill\n3          M1G  Scarborough                                             Woburn\n4          M1H  Scarborough                                          Cedarbrae\n..         ...          ...                                                ...\n98         M9N         York                                             Weston\n99         M9P    Etobicoke                                          Westmount\n100        M9R    Etobicoke  Kingsview Village, St. Phillips, Martin Grove ...\n101        M9V    Etobicoke  South Steeles, Silverstone, Humbergate, Jamest...\n102        M9W    Etobicoke                Northwest, West Humber - Clairville\n\n[103 rows x 3 columns]"
                    },
                    "execution_count": 5,
                    "metadata": {},
                    "output_type": "execute_result"
                }
            ],
            "source": "Toronto_df = Toronto.groupby(['PostalCode','Borough'])['Neigbourhood'].apply(', '.join).reset_index()\nToronto_df.columns = ['PostalCode', 'Borough', 'Neigbourhood']\nToronto_df"
        },
        {
            "cell_type": "code",
            "execution_count": 6,
            "metadata": {},
            "outputs": [
                {
                    "data": {
                        "text/plain": "(103, 3)"
                    },
                    "execution_count": 6,
                    "metadata": {},
                    "output_type": "execute_result"
                }
            ],
            "source": "Toronto_df['Neigbourhood'].replace('Not assigned',Toronto_df [\"Borough\"],inplace=True) \nToronto_df\n\n\n\nToronto_df.shape"
        },
        {
            "cell_type": "code",
            "execution_count": 7,
            "metadata": {},
            "outputs": [
                {
                    "data": {
                        "text/html": "<div>\n<style scoped>\n    .dataframe tbody tr th:only-of-type {\n        vertical-align: middle;\n    }\n\n    .dataframe tbody tr th {\n        vertical-align: top;\n    }\n\n    .dataframe thead th {\n        text-align: right;\n    }\n</style>\n<table border=\"1\" class=\"dataframe\">\n  <thead>\n    <tr style=\"text-align: right;\">\n      <th></th>\n      <th>PostalCode</th>\n      <th>Latitude</th>\n      <th>Longitude</th>\n    </tr>\n  </thead>\n  <tbody>\n    <tr>\n      <th>0</th>\n      <td>M1B</td>\n      <td>43.806686</td>\n      <td>-79.194353</td>\n    </tr>\n    <tr>\n      <th>1</th>\n      <td>M1C</td>\n      <td>43.784535</td>\n      <td>-79.160497</td>\n    </tr>\n    <tr>\n      <th>2</th>\n      <td>M1E</td>\n      <td>43.763573</td>\n      <td>-79.188711</td>\n    </tr>\n    <tr>\n      <th>3</th>\n      <td>M1G</td>\n      <td>43.770992</td>\n      <td>-79.216917</td>\n    </tr>\n    <tr>\n      <th>4</th>\n      <td>M1H</td>\n      <td>43.773136</td>\n      <td>-79.239476</td>\n    </tr>\n    <tr>\n      <th>...</th>\n      <td>...</td>\n      <td>...</td>\n      <td>...</td>\n    </tr>\n    <tr>\n      <th>98</th>\n      <td>M9N</td>\n      <td>43.706876</td>\n      <td>-79.518188</td>\n    </tr>\n    <tr>\n      <th>99</th>\n      <td>M9P</td>\n      <td>43.696319</td>\n      <td>-79.532242</td>\n    </tr>\n    <tr>\n      <th>100</th>\n      <td>M9R</td>\n      <td>43.688905</td>\n      <td>-79.554724</td>\n    </tr>\n    <tr>\n      <th>101</th>\n      <td>M9V</td>\n      <td>43.739416</td>\n      <td>-79.588437</td>\n    </tr>\n    <tr>\n      <th>102</th>\n      <td>M9W</td>\n      <td>43.706748</td>\n      <td>-79.594054</td>\n    </tr>\n  </tbody>\n</table>\n<p>103 rows \u00d7 3 columns</p>\n</div>",
                        "text/plain": "    PostalCode   Latitude  Longitude\n0          M1B  43.806686 -79.194353\n1          M1C  43.784535 -79.160497\n2          M1E  43.763573 -79.188711\n3          M1G  43.770992 -79.216917\n4          M1H  43.773136 -79.239476\n..         ...        ...        ...\n98         M9N  43.706876 -79.518188\n99         M9P  43.696319 -79.532242\n100        M9R  43.688905 -79.554724\n101        M9V  43.739416 -79.588437\n102        M9W  43.706748 -79.594054\n\n[103 rows x 3 columns]"
                    },
                    "execution_count": 7,
                    "metadata": {},
                    "output_type": "execute_result"
                }
            ],
            "source": "Toronto_geo = pd.read_csv('http://cocl.us/Geospatial_data')\nToronto_geo.columns = ['PostalCode', 'Latitude', 'Longitude']\nToronto_geo"
        },
        {
            "cell_type": "code",
            "execution_count": 8,
            "metadata": {},
            "outputs": [
                {
                    "data": {
                        "text/html": "<div>\n<style scoped>\n    .dataframe tbody tr th:only-of-type {\n        vertical-align: middle;\n    }\n\n    .dataframe tbody tr th {\n        vertical-align: top;\n    }\n\n    .dataframe thead th {\n        text-align: right;\n    }\n</style>\n<table border=\"1\" class=\"dataframe\">\n  <thead>\n    <tr style=\"text-align: right;\">\n      <th></th>\n      <th>Borough</th>\n      <th>Neigbourhood</th>\n      <th>PostalCode</th>\n      <th>Latitude</th>\n      <th>Longitude</th>\n    </tr>\n  </thead>\n  <tbody>\n    <tr>\n      <th>0</th>\n      <td>Scarborough</td>\n      <td>Malvern, Rouge</td>\n      <td>M1B</td>\n      <td>43.806686</td>\n      <td>-79.194353</td>\n    </tr>\n    <tr>\n      <th>1</th>\n      <td>Scarborough</td>\n      <td>Rouge Hill, Port Union, Highland Creek</td>\n      <td>M1C</td>\n      <td>43.784535</td>\n      <td>-79.160497</td>\n    </tr>\n    <tr>\n      <th>2</th>\n      <td>Scarborough</td>\n      <td>Guildwood, Morningside, West Hill</td>\n      <td>M1E</td>\n      <td>43.763573</td>\n      <td>-79.188711</td>\n    </tr>\n    <tr>\n      <th>3</th>\n      <td>Scarborough</td>\n      <td>Woburn</td>\n      <td>M1G</td>\n      <td>43.770992</td>\n      <td>-79.216917</td>\n    </tr>\n    <tr>\n      <th>4</th>\n      <td>Scarborough</td>\n      <td>Cedarbrae</td>\n      <td>M1H</td>\n      <td>43.773136</td>\n      <td>-79.239476</td>\n    </tr>\n  </tbody>\n</table>\n</div>",
                        "text/plain": "       Borough                            Neigbourhood PostalCode   Latitude  \\\n0  Scarborough                          Malvern, Rouge        M1B  43.806686   \n1  Scarborough  Rouge Hill, Port Union, Highland Creek        M1C  43.784535   \n2  Scarborough       Guildwood, Morningside, West Hill        M1E  43.763573   \n3  Scarborough                                  Woburn        M1G  43.770992   \n4  Scarborough                               Cedarbrae        M1H  43.773136   \n\n   Longitude  \n0 -79.194353  \n1 -79.160497  \n2 -79.188711  \n3 -79.216917  \n4 -79.239476  "
                    },
                    "execution_count": 8,
                    "metadata": {},
                    "output_type": "execute_result"
                }
            ],
            "source": "df_tor = pd.merge(Toronto_df, Toronto_geo, on=['PostalCode'], how='inner')\n\ndf_toronto = df_tor[['Borough', 'Neigbourhood', 'PostalCode', 'Latitude', 'Longitude']].copy()\n\ndf_toronto.head()"
        },
        {
            "cell_type": "code",
            "execution_count": 9,
            "metadata": {},
            "outputs": [
                {
                    "data": {
                        "text/html": "<div>\n<style scoped>\n    .dataframe tbody tr th:only-of-type {\n        vertical-align: middle;\n    }\n\n    .dataframe tbody tr th {\n        vertical-align: top;\n    }\n\n    .dataframe thead th {\n        text-align: right;\n    }\n</style>\n<table border=\"1\" class=\"dataframe\">\n  <thead>\n    <tr style=\"text-align: right;\">\n      <th></th>\n      <th>Borough</th>\n      <th>Neigbourhood</th>\n      <th>PostalCode</th>\n      <th>Latitude</th>\n      <th>Longitude</th>\n    </tr>\n  </thead>\n  <tbody>\n    <tr>\n      <th>0</th>\n      <td>Scarborough</td>\n      <td>Malvern, Rouge</td>\n      <td>M1B</td>\n      <td>43.806686</td>\n      <td>-79.194353</td>\n    </tr>\n    <tr>\n      <th>1</th>\n      <td>Scarborough</td>\n      <td>Rouge Hill, Port Union, Highland Creek</td>\n      <td>M1C</td>\n      <td>43.784535</td>\n      <td>-79.160497</td>\n    </tr>\n    <tr>\n      <th>2</th>\n      <td>Scarborough</td>\n      <td>Guildwood, Morningside, West Hill</td>\n      <td>M1E</td>\n      <td>43.763573</td>\n      <td>-79.188711</td>\n    </tr>\n    <tr>\n      <th>3</th>\n      <td>Scarborough</td>\n      <td>Woburn</td>\n      <td>M1G</td>\n      <td>43.770992</td>\n      <td>-79.216917</td>\n    </tr>\n    <tr>\n      <th>4</th>\n      <td>Scarborough</td>\n      <td>Cedarbrae</td>\n      <td>M1H</td>\n      <td>43.773136</td>\n      <td>-79.239476</td>\n    </tr>\n    <tr>\n      <th>...</th>\n      <td>...</td>\n      <td>...</td>\n      <td>...</td>\n      <td>...</td>\n      <td>...</td>\n    </tr>\n    <tr>\n      <th>98</th>\n      <td>York</td>\n      <td>Weston</td>\n      <td>M9N</td>\n      <td>43.706876</td>\n      <td>-79.518188</td>\n    </tr>\n    <tr>\n      <th>99</th>\n      <td>Etobicoke</td>\n      <td>Westmount</td>\n      <td>M9P</td>\n      <td>43.696319</td>\n      <td>-79.532242</td>\n    </tr>\n    <tr>\n      <th>100</th>\n      <td>Etobicoke</td>\n      <td>Kingsview Village, St. Phillips, Martin Grove ...</td>\n      <td>M9R</td>\n      <td>43.688905</td>\n      <td>-79.554724</td>\n    </tr>\n    <tr>\n      <th>101</th>\n      <td>Etobicoke</td>\n      <td>South Steeles, Silverstone, Humbergate, Jamest...</td>\n      <td>M9V</td>\n      <td>43.739416</td>\n      <td>-79.588437</td>\n    </tr>\n    <tr>\n      <th>102</th>\n      <td>Etobicoke</td>\n      <td>Northwest, West Humber - Clairville</td>\n      <td>M9W</td>\n      <td>43.706748</td>\n      <td>-79.594054</td>\n    </tr>\n  </tbody>\n</table>\n<p>103 rows \u00d7 5 columns</p>\n</div>",
                        "text/plain": "         Borough                                       Neigbourhood  \\\n0    Scarborough                                     Malvern, Rouge   \n1    Scarborough             Rouge Hill, Port Union, Highland Creek   \n2    Scarborough                  Guildwood, Morningside, West Hill   \n3    Scarborough                                             Woburn   \n4    Scarborough                                          Cedarbrae   \n..           ...                                                ...   \n98          York                                             Weston   \n99     Etobicoke                                          Westmount   \n100    Etobicoke  Kingsview Village, St. Phillips, Martin Grove ...   \n101    Etobicoke  South Steeles, Silverstone, Humbergate, Jamest...   \n102    Etobicoke                Northwest, West Humber - Clairville   \n\n    PostalCode   Latitude  Longitude  \n0          M1B  43.806686 -79.194353  \n1          M1C  43.784535 -79.160497  \n2          M1E  43.763573 -79.188711  \n3          M1G  43.770992 -79.216917  \n4          M1H  43.773136 -79.239476  \n..         ...        ...        ...  \n98         M9N  43.706876 -79.518188  \n99         M9P  43.696319 -79.532242  \n100        M9R  43.688905 -79.554724  \n101        M9V  43.739416 -79.588437  \n102        M9W  43.706748 -79.594054  \n\n[103 rows x 5 columns]"
                    },
                    "execution_count": 9,
                    "metadata": {},
                    "output_type": "execute_result"
                }
            ],
            "source": "df_toronto"
        },
        {
            "cell_type": "code",
            "execution_count": 10,
            "metadata": {},
            "outputs": [
                {
                    "name": "stdout",
                    "output_type": "stream",
                    "text": "Collecting package metadata (current_repodata.json): done\nSolving environment: done\n\n## Package Plan ##\n\n  environment location: /home/jupyterlab/conda/envs/python\n\n  added / updated specs:\n    - geopy\n\n\nThe following packages will be downloaded:\n\n    package                    |            build\n    ---------------------------|-----------------\n    geographiclib-1.50         |             py_0          34 KB  conda-forge\n    geopy-2.0.0                |     pyh9f0ad1d_0          63 KB  conda-forge\n    ------------------------------------------------------------\n                                           Total:          97 KB\n\nThe following NEW packages will be INSTALLED:\n\n  geographiclib      conda-forge/noarch::geographiclib-1.50-py_0\n  geopy              conda-forge/noarch::geopy-2.0.0-pyh9f0ad1d_0\n\n\n\nDownloading and Extracting Packages\ngeopy-2.0.0          | 63 KB     | ##################################### | 100% \ngeographiclib-1.50   | 34 KB     | ##################################### | 100% \nPreparing transaction: done\nVerifying transaction: done\nExecuting transaction: done\nCollecting package metadata (current_repodata.json): done\nSolving environment: failed with initial frozen solve. Retrying with flexible solve.\nCollecting package metadata (repodata.json): done\nSolving environment: done\n\n## Package Plan ##\n\n  environment location: /home/jupyterlab/conda/envs/python\n\n  added / updated specs:\n    - folium=0.5.0\n\n\nThe following packages will be downloaded:\n\n    package                    |            build\n    ---------------------------|-----------------\n    altair-4.1.0               |             py_1         614 KB  conda-forge\n    branca-0.4.1               |             py_0          26 KB  conda-forge\n    brotlipy-0.7.0             |py36h8c4c3a4_1000         346 KB  conda-forge\n    chardet-3.0.4              |py36h9f0ad1d_1006         188 KB  conda-forge\n    cryptography-2.9.2         |   py36h45558ae_0         613 KB  conda-forge\n    folium-0.5.0               |             py_0          45 KB  conda-forge\n    pandas-1.0.5               |   py36h830a2c2_0        10.1 MB  conda-forge\n    pysocks-1.7.1              |   py36h9f0ad1d_1          27 KB  conda-forge\n    toolz-0.10.0               |             py_0          46 KB  conda-forge\n    vincent-0.4.4              |             py_1          28 KB  conda-forge\n    ------------------------------------------------------------\n                                           Total:        12.0 MB\n\nThe following NEW packages will be INSTALLED:\n\n  altair             conda-forge/noarch::altair-4.1.0-py_1\n  attrs              conda-forge/noarch::attrs-19.3.0-py_0\n  branca             conda-forge/noarch::branca-0.4.1-py_0\n  brotlipy           conda-forge/linux-64::brotlipy-0.7.0-py36h8c4c3a4_1000\n  chardet            conda-forge/linux-64::chardet-3.0.4-py36h9f0ad1d_1006\n  cryptography       conda-forge/linux-64::cryptography-2.9.2-py36h45558ae_0\n  entrypoints        conda-forge/linux-64::entrypoints-0.3-py36h9f0ad1d_1001\n  folium             conda-forge/noarch::folium-0.5.0-py_0\n  idna               conda-forge/noarch::idna-2.10-pyh9f0ad1d_0\n  importlib_metadata conda-forge/noarch::importlib_metadata-1.7.0-0\n  jinja2             conda-forge/noarch::jinja2-2.11.2-pyh9f0ad1d_0\n  jsonschema         conda-forge/linux-64::jsonschema-3.2.0-py36h9f0ad1d_1\n  markupsafe         conda-forge/linux-64::markupsafe-1.1.1-py36h8c4c3a4_1\n  pandas             conda-forge/linux-64::pandas-1.0.5-py36h830a2c2_0\n  pyopenssl          conda-forge/noarch::pyopenssl-19.1.0-py_1\n  pyrsistent         conda-forge/linux-64::pyrsistent-0.16.0-py36h8c4c3a4_0\n  pysocks            conda-forge/linux-64::pysocks-1.7.1-py36h9f0ad1d_1\n  pytz               conda-forge/noarch::pytz-2020.1-pyh9f0ad1d_0\n  requests           conda-forge/noarch::requests-2.24.0-pyh9f0ad1d_0\n  toolz              conda-forge/noarch::toolz-0.10.0-py_0\n  urllib3            conda-forge/noarch::urllib3-1.25.9-py_0\n  vincent            conda-forge/noarch::vincent-0.4.4-py_1\n\n\n\nDownloading and Extracting Packages\npysocks-1.7.1        | 27 KB     | ##################################### | 100% \ntoolz-0.10.0         | 46 KB     | ##################################### | 100% \nchardet-3.0.4        | 188 KB    | ##################################### | 100% \nfolium-0.5.0         | 45 KB     | ##################################### | 100% \nbranca-0.4.1         | 26 KB     | ##################################### | 100% \ncryptography-2.9.2   | 613 KB    | ##################################### | 100% \nbrotlipy-0.7.0       | 346 KB    | ##################################### | 100% \naltair-4.1.0         | 614 KB    | ##################################### | 100% \npandas-1.0.5         | 10.1 MB   | ##################################### | 100% \nvincent-0.4.4        | 28 KB     | ##################################### | 100% \nPreparing transaction: done\nVerifying transaction: done\nExecuting transaction: done\nFolium installed\nLibraries imported.\n"
                }
            ],
            "source": "\nimport requests # library to handle requests\nimport pandas as pd # library for data analsysis\nimport numpy as np # library to handle data in a vectorized manner\nimport random # library for random number generation\n\n!conda install -c conda-forge geopy --yes \nfrom geopy.geocoders import Nominatim # module to convert an address into latitude and longitude values\n\n# libraries for displaying images\nfrom IPython.display import Image \nfrom IPython.core.display import HTML \n    \n# tranforming json file into a pandas dataframe library\nfrom pandas.io.json import json_normalize\n\n!conda install -c conda-forge folium=0.5.0 --yes\nimport folium # plotting library\n\nprint('Folium installed')\nprint('Libraries imported.')"
        },
        {
            "cell_type": "code",
            "execution_count": 11,
            "metadata": {},
            "outputs": [
                {
                    "name": "stdout",
                    "output_type": "stream",
                    "text": "Collecting geocoder\n\u001b[?25l  Downloading https://files.pythonhosted.org/packages/4f/6b/13166c909ad2f2d76b929a4227c952630ebaf0d729f6317eb09cbceccbab/geocoder-1.38.1-py2.py3-none-any.whl (98kB)\n\u001b[K     |\u2588\u2588\u2588\u2588\u2588\u2588\u2588\u2588\u2588\u2588\u2588\u2588\u2588\u2588\u2588\u2588\u2588\u2588\u2588\u2588\u2588\u2588\u2588\u2588\u2588\u2588\u2588\u2588\u2588\u2588\u2588\u2588| 102kB 4.6MB/s ta 0:00:011\n\u001b[?25hCollecting click (from geocoder)\n  Using cached https://files.pythonhosted.org/packages/d2/3d/fa76db83bf75c4f8d338c2fd15c8d33fdd7ad23a9b5e57eb6c5de26b430e/click-7.1.2-py2.py3-none-any.whl\nRequirement already satisfied: requests in /home/jupyterlab/conda/envs/python/lib/python3.6/site-packages (from geocoder) (2.24.0)\nCollecting ratelim (from geocoder)\n  Downloading https://files.pythonhosted.org/packages/f2/98/7e6d147fd16a10a5f821db6e25f192265d6ecca3d82957a4fdd592cad49c/ratelim-0.1.6-py2.py3-none-any.whl\nRequirement already satisfied: six in /home/jupyterlab/conda/envs/python/lib/python3.6/site-packages (from geocoder) (1.15.0)\nCollecting future (from geocoder)\n\u001b[?25l  Downloading https://files.pythonhosted.org/packages/45/0b/38b06fd9b92dc2b68d58b75f900e97884c45bedd2ff83203d933cf5851c9/future-0.18.2.tar.gz (829kB)\n\u001b[K     |\u2588\u2588\u2588\u2588\u2588\u2588\u2588\u2588\u2588\u2588\u2588\u2588\u2588\u2588\u2588\u2588\u2588\u2588\u2588\u2588\u2588\u2588\u2588\u2588\u2588\u2588\u2588\u2588\u2588\u2588\u2588\u2588| 829kB 23.5MB/s eta 0:00:01\n\u001b[?25hRequirement already satisfied: chardet<4,>=3.0.2 in /home/jupyterlab/conda/envs/python/lib/python3.6/site-packages (from requests->geocoder) (3.0.4)\nRequirement already satisfied: urllib3!=1.25.0,!=1.25.1,<1.26,>=1.21.1 in /home/jupyterlab/conda/envs/python/lib/python3.6/site-packages (from requests->geocoder) (1.25.9)\nRequirement already satisfied: certifi>=2017.4.17 in /home/jupyterlab/conda/envs/python/lib/python3.6/site-packages (from requests->geocoder) (2020.6.20)\nRequirement already satisfied: idna<3,>=2.5 in /home/jupyterlab/conda/envs/python/lib/python3.6/site-packages (from requests->geocoder) (2.10)\nRequirement already satisfied: decorator in /home/jupyterlab/conda/envs/python/lib/python3.6/site-packages (from ratelim->geocoder) (4.4.2)\nBuilding wheels for collected packages: future\n  Building wheel for future (setup.py) ... \u001b[?25ldone\n\u001b[?25h  Stored in directory: /home/jupyterlab/.cache/pip/wheels/8b/99/a0/81daf51dcd359a9377b110a8a886b3895921802d2fc1b2397e\nSuccessfully built future\nInstalling collected packages: click, ratelim, future, geocoder\nSuccessfully installed click-7.1.2 future-0.18.2 geocoder-1.38.1 ratelim-0.1.6\nimported\n"
                }
            ],
            "source": "! pip install geocoder\nprint(\"imported\")"
        },
        {
            "cell_type": "code",
            "execution_count": 12,
            "metadata": {},
            "outputs": [
                {
                    "name": "stdout",
                    "output_type": "stream",
                    "text": "Your credentails:\nCLIENT_ID: QCIRJLBJOYYPE02T0Q0V35BCHXU2FQX5KYZRSL1D3D2Y5RYK\nCLIENT_SECRET:5NJLWP52Y0YPLHLVOW30JXINMGEHGFZ3ZAYMB0M4QJ3JYPLO\n"
                }
            ],
            "source": "CLIENT_ID = 'QCIRJLBJOYYPE02T0Q0V35BCHXU2FQX5KYZRSL1D3D2Y5RYK' # your Foursquare ID\nCLIENT_SECRET = '5NJLWP52Y0YPLHLVOW30JXINMGEHGFZ3ZAYMB0M4QJ3JYPLO' # your Foursquare Secret\nVERSION = '20180604'\nprint('Your credentails:')\nprint('CLIENT_ID: ' + CLIENT_ID)\nprint('CLIENT_SECRET:' + CLIENT_SECRET)"
        },
        {
            "cell_type": "code",
            "execution_count": 13,
            "metadata": {},
            "outputs": [
                {
                    "name": "stdout",
                    "output_type": "stream",
                    "text": "The geograpical coordinate of the City of Toronto are 43.6534817, -79.3839347.\n"
                }
            ],
            "source": "address = 'Toronto, Canada'\ngeolocator = Nominatim(user_agent=\"foursquare_agent\")\nlocation = geolocator.geocode(address)\nlatitude = location.latitude\nlongitude = location.longitude\nprint('The geograpical coordinate of the City of Toronto are {}, {}.'.format(latitude, longitude))"
        },
        {
            "cell_type": "code",
            "execution_count": 14,
            "metadata": {},
            "outputs": [
                {
                    "data": {
                        "text/html": "<div>\n<style scoped>\n    .dataframe tbody tr th:only-of-type {\n        vertical-align: middle;\n    }\n\n    .dataframe tbody tr th {\n        vertical-align: top;\n    }\n\n    .dataframe thead th {\n        text-align: right;\n    }\n</style>\n<table border=\"1\" class=\"dataframe\">\n  <thead>\n    <tr style=\"text-align: right;\">\n      <th></th>\n      <th>Borough</th>\n      <th>Neigbourhood</th>\n      <th>PostalCode</th>\n      <th>Latitude</th>\n      <th>Longitude</th>\n    </tr>\n  </thead>\n  <tbody>\n    <tr>\n      <th>0</th>\n      <td>East Toronto</td>\n      <td>The Beaches</td>\n      <td>M4E</td>\n      <td>43.676357</td>\n      <td>-79.293031</td>\n    </tr>\n    <tr>\n      <th>1</th>\n      <td>East Toronto</td>\n      <td>The Danforth West, Riverdale</td>\n      <td>M4K</td>\n      <td>43.679557</td>\n      <td>-79.352188</td>\n    </tr>\n    <tr>\n      <th>2</th>\n      <td>East Toronto</td>\n      <td>India Bazaar, The Beaches West</td>\n      <td>M4L</td>\n      <td>43.668999</td>\n      <td>-79.315572</td>\n    </tr>\n    <tr>\n      <th>3</th>\n      <td>East Toronto</td>\n      <td>Studio District</td>\n      <td>M4M</td>\n      <td>43.659526</td>\n      <td>-79.340923</td>\n    </tr>\n    <tr>\n      <th>4</th>\n      <td>Central Toronto</td>\n      <td>Lawrence Park</td>\n      <td>M4N</td>\n      <td>43.728020</td>\n      <td>-79.388790</td>\n    </tr>\n    <tr>\n      <th>5</th>\n      <td>Central Toronto</td>\n      <td>Davisville North</td>\n      <td>M4P</td>\n      <td>43.712751</td>\n      <td>-79.390197</td>\n    </tr>\n    <tr>\n      <th>6</th>\n      <td>Central Toronto</td>\n      <td>North Toronto West,  Lawrence Park</td>\n      <td>M4R</td>\n      <td>43.715383</td>\n      <td>-79.405678</td>\n    </tr>\n    <tr>\n      <th>7</th>\n      <td>Central Toronto</td>\n      <td>Davisville</td>\n      <td>M4S</td>\n      <td>43.704324</td>\n      <td>-79.388790</td>\n    </tr>\n    <tr>\n      <th>8</th>\n      <td>Central Toronto</td>\n      <td>Moore Park, Summerhill East</td>\n      <td>M4T</td>\n      <td>43.689574</td>\n      <td>-79.383160</td>\n    </tr>\n    <tr>\n      <th>9</th>\n      <td>Central Toronto</td>\n      <td>Summerhill West, Rathnelly, South Hill, Forest...</td>\n      <td>M4V</td>\n      <td>43.686412</td>\n      <td>-79.400049</td>\n    </tr>\n    <tr>\n      <th>10</th>\n      <td>Downtown Toronto</td>\n      <td>Rosedale</td>\n      <td>M4W</td>\n      <td>43.679563</td>\n      <td>-79.377529</td>\n    </tr>\n    <tr>\n      <th>11</th>\n      <td>Downtown Toronto</td>\n      <td>St. James Town, Cabbagetown</td>\n      <td>M4X</td>\n      <td>43.667967</td>\n      <td>-79.367675</td>\n    </tr>\n    <tr>\n      <th>12</th>\n      <td>Downtown Toronto</td>\n      <td>Church and Wellesley</td>\n      <td>M4Y</td>\n      <td>43.665860</td>\n      <td>-79.383160</td>\n    </tr>\n    <tr>\n      <th>13</th>\n      <td>Downtown Toronto</td>\n      <td>Regent Park, Harbourfront</td>\n      <td>M5A</td>\n      <td>43.654260</td>\n      <td>-79.360636</td>\n    </tr>\n    <tr>\n      <th>14</th>\n      <td>Downtown Toronto</td>\n      <td>Garden District, Ryerson</td>\n      <td>M5B</td>\n      <td>43.657162</td>\n      <td>-79.378937</td>\n    </tr>\n    <tr>\n      <th>15</th>\n      <td>Downtown Toronto</td>\n      <td>St. James Town</td>\n      <td>M5C</td>\n      <td>43.651494</td>\n      <td>-79.375418</td>\n    </tr>\n    <tr>\n      <th>16</th>\n      <td>Downtown Toronto</td>\n      <td>Berczy Park</td>\n      <td>M5E</td>\n      <td>43.644771</td>\n      <td>-79.373306</td>\n    </tr>\n    <tr>\n      <th>17</th>\n      <td>Downtown Toronto</td>\n      <td>Central Bay Street</td>\n      <td>M5G</td>\n      <td>43.657952</td>\n      <td>-79.387383</td>\n    </tr>\n    <tr>\n      <th>18</th>\n      <td>Downtown Toronto</td>\n      <td>Richmond, Adelaide, King</td>\n      <td>M5H</td>\n      <td>43.650571</td>\n      <td>-79.384568</td>\n    </tr>\n    <tr>\n      <th>19</th>\n      <td>Downtown Toronto</td>\n      <td>Harbourfront East, Union Station, Toronto Islands</td>\n      <td>M5J</td>\n      <td>43.640816</td>\n      <td>-79.381752</td>\n    </tr>\n    <tr>\n      <th>20</th>\n      <td>Downtown Toronto</td>\n      <td>Toronto Dominion Centre, Design Exchange</td>\n      <td>M5K</td>\n      <td>43.647177</td>\n      <td>-79.381576</td>\n    </tr>\n    <tr>\n      <th>21</th>\n      <td>Downtown Toronto</td>\n      <td>Commerce Court, Victoria Hotel</td>\n      <td>M5L</td>\n      <td>43.648198</td>\n      <td>-79.379817</td>\n    </tr>\n    <tr>\n      <th>22</th>\n      <td>Central Toronto</td>\n      <td>Roselawn</td>\n      <td>M5N</td>\n      <td>43.711695</td>\n      <td>-79.416936</td>\n    </tr>\n    <tr>\n      <th>23</th>\n      <td>Central Toronto</td>\n      <td>Forest Hill North &amp; West, Forest Hill Road Park</td>\n      <td>M5P</td>\n      <td>43.696948</td>\n      <td>-79.411307</td>\n    </tr>\n    <tr>\n      <th>24</th>\n      <td>Central Toronto</td>\n      <td>The Annex, North Midtown, Yorkville</td>\n      <td>M5R</td>\n      <td>43.672710</td>\n      <td>-79.405678</td>\n    </tr>\n    <tr>\n      <th>25</th>\n      <td>Downtown Toronto</td>\n      <td>University of Toronto, Harbord</td>\n      <td>M5S</td>\n      <td>43.662696</td>\n      <td>-79.400049</td>\n    </tr>\n    <tr>\n      <th>26</th>\n      <td>Downtown Toronto</td>\n      <td>Kensington Market, Chinatown, Grange Park</td>\n      <td>M5T</td>\n      <td>43.653206</td>\n      <td>-79.400049</td>\n    </tr>\n    <tr>\n      <th>27</th>\n      <td>Downtown Toronto</td>\n      <td>CN Tower, King and Spadina, Railway Lands, Har...</td>\n      <td>M5V</td>\n      <td>43.628947</td>\n      <td>-79.394420</td>\n    </tr>\n    <tr>\n      <th>28</th>\n      <td>Downtown Toronto</td>\n      <td>Stn A PO Boxes</td>\n      <td>M5W</td>\n      <td>43.646435</td>\n      <td>-79.374846</td>\n    </tr>\n    <tr>\n      <th>29</th>\n      <td>Downtown Toronto</td>\n      <td>First Canadian Place, Underground city</td>\n      <td>M5X</td>\n      <td>43.648429</td>\n      <td>-79.382280</td>\n    </tr>\n    <tr>\n      <th>30</th>\n      <td>Downtown Toronto</td>\n      <td>Christie</td>\n      <td>M6G</td>\n      <td>43.669542</td>\n      <td>-79.422564</td>\n    </tr>\n    <tr>\n      <th>31</th>\n      <td>West Toronto</td>\n      <td>Dufferin, Dovercourt Village</td>\n      <td>M6H</td>\n      <td>43.669005</td>\n      <td>-79.442259</td>\n    </tr>\n    <tr>\n      <th>32</th>\n      <td>West Toronto</td>\n      <td>Little Portugal, Trinity</td>\n      <td>M6J</td>\n      <td>43.647927</td>\n      <td>-79.419750</td>\n    </tr>\n    <tr>\n      <th>33</th>\n      <td>West Toronto</td>\n      <td>Brockton, Parkdale Village, Exhibition Place</td>\n      <td>M6K</td>\n      <td>43.636847</td>\n      <td>-79.428191</td>\n    </tr>\n    <tr>\n      <th>34</th>\n      <td>West Toronto</td>\n      <td>High Park, The Junction South</td>\n      <td>M6P</td>\n      <td>43.661608</td>\n      <td>-79.464763</td>\n    </tr>\n    <tr>\n      <th>35</th>\n      <td>West Toronto</td>\n      <td>Parkdale, Roncesvalles</td>\n      <td>M6R</td>\n      <td>43.648960</td>\n      <td>-79.456325</td>\n    </tr>\n    <tr>\n      <th>36</th>\n      <td>West Toronto</td>\n      <td>Runnymede, Swansea</td>\n      <td>M6S</td>\n      <td>43.651571</td>\n      <td>-79.484450</td>\n    </tr>\n    <tr>\n      <th>37</th>\n      <td>Downtown Toronto</td>\n      <td>Queen's Park, Ontario Provincial Government</td>\n      <td>M7A</td>\n      <td>43.662301</td>\n      <td>-79.389494</td>\n    </tr>\n    <tr>\n      <th>38</th>\n      <td>East Toronto</td>\n      <td>Business reply mail Processing Centre, South C...</td>\n      <td>M7Y</td>\n      <td>43.662744</td>\n      <td>-79.321558</td>\n    </tr>\n  </tbody>\n</table>\n</div>",
                        "text/plain": "             Borough                                       Neigbourhood  \\\n0       East Toronto                                        The Beaches   \n1       East Toronto                       The Danforth West, Riverdale   \n2       East Toronto                     India Bazaar, The Beaches West   \n3       East Toronto                                    Studio District   \n4    Central Toronto                                      Lawrence Park   \n5    Central Toronto                                   Davisville North   \n6    Central Toronto                 North Toronto West,  Lawrence Park   \n7    Central Toronto                                         Davisville   \n8    Central Toronto                        Moore Park, Summerhill East   \n9    Central Toronto  Summerhill West, Rathnelly, South Hill, Forest...   \n10  Downtown Toronto                                           Rosedale   \n11  Downtown Toronto                        St. James Town, Cabbagetown   \n12  Downtown Toronto                               Church and Wellesley   \n13  Downtown Toronto                          Regent Park, Harbourfront   \n14  Downtown Toronto                           Garden District, Ryerson   \n15  Downtown Toronto                                     St. James Town   \n16  Downtown Toronto                                        Berczy Park   \n17  Downtown Toronto                                 Central Bay Street   \n18  Downtown Toronto                           Richmond, Adelaide, King   \n19  Downtown Toronto  Harbourfront East, Union Station, Toronto Islands   \n20  Downtown Toronto           Toronto Dominion Centre, Design Exchange   \n21  Downtown Toronto                     Commerce Court, Victoria Hotel   \n22   Central Toronto                                           Roselawn   \n23   Central Toronto    Forest Hill North & West, Forest Hill Road Park   \n24   Central Toronto                The Annex, North Midtown, Yorkville   \n25  Downtown Toronto                     University of Toronto, Harbord   \n26  Downtown Toronto          Kensington Market, Chinatown, Grange Park   \n27  Downtown Toronto  CN Tower, King and Spadina, Railway Lands, Har...   \n28  Downtown Toronto                                     Stn A PO Boxes   \n29  Downtown Toronto             First Canadian Place, Underground city   \n30  Downtown Toronto                                           Christie   \n31      West Toronto                       Dufferin, Dovercourt Village   \n32      West Toronto                           Little Portugal, Trinity   \n33      West Toronto       Brockton, Parkdale Village, Exhibition Place   \n34      West Toronto                      High Park, The Junction South   \n35      West Toronto                             Parkdale, Roncesvalles   \n36      West Toronto                                 Runnymede, Swansea   \n37  Downtown Toronto        Queen's Park, Ontario Provincial Government   \n38      East Toronto  Business reply mail Processing Centre, South C...   \n\n   PostalCode   Latitude  Longitude  \n0         M4E  43.676357 -79.293031  \n1         M4K  43.679557 -79.352188  \n2         M4L  43.668999 -79.315572  \n3         M4M  43.659526 -79.340923  \n4         M4N  43.728020 -79.388790  \n5         M4P  43.712751 -79.390197  \n6         M4R  43.715383 -79.405678  \n7         M4S  43.704324 -79.388790  \n8         M4T  43.689574 -79.383160  \n9         M4V  43.686412 -79.400049  \n10        M4W  43.679563 -79.377529  \n11        M4X  43.667967 -79.367675  \n12        M4Y  43.665860 -79.383160  \n13        M5A  43.654260 -79.360636  \n14        M5B  43.657162 -79.378937  \n15        M5C  43.651494 -79.375418  \n16        M5E  43.644771 -79.373306  \n17        M5G  43.657952 -79.387383  \n18        M5H  43.650571 -79.384568  \n19        M5J  43.640816 -79.381752  \n20        M5K  43.647177 -79.381576  \n21        M5L  43.648198 -79.379817  \n22        M5N  43.711695 -79.416936  \n23        M5P  43.696948 -79.411307  \n24        M5R  43.672710 -79.405678  \n25        M5S  43.662696 -79.400049  \n26        M5T  43.653206 -79.400049  \n27        M5V  43.628947 -79.394420  \n28        M5W  43.646435 -79.374846  \n29        M5X  43.648429 -79.382280  \n30        M6G  43.669542 -79.422564  \n31        M6H  43.669005 -79.442259  \n32        M6J  43.647927 -79.419750  \n33        M6K  43.636847 -79.428191  \n34        M6P  43.661608 -79.464763  \n35        M6R  43.648960 -79.456325  \n36        M6S  43.651571 -79.484450  \n37        M7A  43.662301 -79.389494  \n38        M7Y  43.662744 -79.321558  "
                    },
                    "execution_count": 14,
                    "metadata": {},
                    "output_type": "execute_result"
                }
            ],
            "source": "df_torNei = df_toronto[df_toronto['Borough'].str.contains('Toronto')]\n\ntoronto_data = df_torNei.reset_index(drop=True)\ntoronto_data"
        },
        {
            "cell_type": "code",
            "execution_count": 22,
            "metadata": {},
            "outputs": [],
            "source": "Toronto_map = folium.Map(location=[latitude, longitude], zoom_start=10)\nfor lati, long, borough, neigborhood in zip(toronto_data['Latitude'], toronto_data['Longitude'], toronto_data['Borough'], toronto_data['Neigbourhood']):\n    label = '{}, {}'.format(neigborhood, borough)\n    label = folium.Popup(label, parse_html=True)\n    folium.CircleMarker(\n        [lati, long],\n        radius=3,\n        popup=label,\n        color='blue',\n        fill=True,\n        fill_color='#3186cc',\n        fill_opacity=0.3,\n        parse_html=False).add_to(Toronto_map) \n    \n    Toronto_map"
        },
        {
            "cell_type": "code",
            "execution_count": 23,
            "metadata": {},
            "outputs": [],
            "source": "radius=500\nLIMIT=100"
        },
        {
            "cell_type": "code",
            "execution_count": 24,
            "metadata": {},
            "outputs": [
                {
                    "data": {
                        "text/plain": "'Davisville North'"
                    },
                    "execution_count": 24,
                    "metadata": {},
                    "output_type": "execute_result"
                }
            ],
            "source": "\ntoronto_data.loc[5,'Neigbourhood']"
        },
        {
            "cell_type": "code",
            "execution_count": 25,
            "metadata": {},
            "outputs": [
                {
                    "name": "stdout",
                    "output_type": "stream",
                    "text": "Latitude and longitude values of Davisville North are 43.7127511, -79.3901975.\n"
                }
            ],
            "source": "neighbourhood_latitude = toronto_data.loc[5, 'Latitude'] # neighbourhood latitude value\nneighbourhood_longitude = toronto_data.loc[5, 'Longitude'] # neighbourhood longitude value\n\nneighbourhood_name = toronto_data.loc[5, 'Neigbourhood'] # neighbourhood name\n\nprint('Latitude and longitude values of {} are {}, {}.'.format(neighbourhood_name, \n                                                               neighbourhood_latitude, \n                                                               neighbourhood_longitude))"
        },
        {
            "cell_type": "code",
            "execution_count": 26,
            "metadata": {},
            "outputs": [],
            "source": "url = 'https://api.foursquare.com/v2/venues/explore?&client_id={}&client_secret={}&v={}&ll={},{}&radius={}&limit={}'.format(\n    CLIENT_ID, \n    CLIENT_SECRET, \n    VERSION, \n    neighbourhood_latitude, \n    neighbourhood_longitude, \n    radius, \n    LIMIT)"
        },
        {
            "cell_type": "code",
            "execution_count": 27,
            "metadata": {},
            "outputs": [
                {
                    "data": {
                        "text/plain": "{'meta': {'code': 200, 'requestId': '5f0c0a13c7664158eb5f2c83'},\n 'response': {'headerLocation': 'Davisville',\n  'headerFullLocation': 'Davisville, Toronto',\n  'headerLocationGranularity': 'neighborhood',\n  'totalResults': 7,\n  'suggestedBounds': {'ne': {'lat': 43.7172511045, 'lng': -79.38398344441633},\n   'sw': {'lat': 43.708251095499996, 'lng': -79.39641155558367}},\n  'groups': [{'type': 'Recommended Places',\n    'name': 'recommended',\n    'items': [{'reasons': {'count': 0,\n       'items': [{'summary': 'This spot is popular',\n         'type': 'general',\n         'reasonName': 'globalInteractionReason'}]},\n      'venue': {'id': '4e8e73c30cd6209590ae7be4',\n       'name': 'Summerhill Market North',\n       'location': {'address': '1054 Mount Pleasant Rd.',\n        'crossStreet': 'Sheldrake Blvd',\n        'lat': 43.71549914910689,\n        'lng': -79.39288125988016,\n        'labeledLatLngs': [{'label': 'display',\n          'lat': 43.71549914910689,\n          'lng': -79.39288125988016}],\n        'distance': 374,\n        'postalCode': 'M4P 2M4',\n        'cc': 'CA',\n        'city': 'Toronto',\n        'state': 'ON',\n        'country': 'Canada',\n        'formattedAddress': ['1054 Mount Pleasant Rd. (Sheldrake Blvd)',\n         'Toronto ON M4P 2M4',\n         'Canada']},\n       'categories': [{'id': '4bf58dd8d48988d1f9941735',\n         'name': 'Food & Drink Shop',\n         'pluralName': 'Food & Drink Shops',\n         'shortName': 'Food & Drink',\n         'icon': {'prefix': 'https://ss3.4sqi.net/img/categories_v2/shops/foodanddrink_',\n          'suffix': '.png'},\n         'primary': True}],\n       'photos': {'count': 0, 'groups': []}},\n      'referralId': 'e-0-4e8e73c30cd6209590ae7be4-0'},\n     {'reasons': {'count': 0,\n       'items': [{'summary': 'This spot is popular',\n         'type': 'general',\n         'reasonName': 'globalInteractionReason'}]},\n      'venue': {'id': '4ba011c2f964a5204a5737e3',\n       'name': 'Sherwood Park',\n       'location': {'address': '190 Sherwood Ave',\n        'lat': 43.71655100307589,\n        'lng': -79.38777567141624,\n        'labeledLatLngs': [{'label': 'display',\n          'lat': 43.71655100307589,\n          'lng': -79.38777567141624}],\n        'distance': 465,\n        'postalCode': 'M4P 2A8',\n        'cc': 'CA',\n        'city': 'Toronto',\n        'state': 'ON',\n        'country': 'Canada',\n        'formattedAddress': ['190 Sherwood Ave',\n         'Toronto ON M4P 2A8',\n         'Canada']},\n       'categories': [{'id': '4bf58dd8d48988d163941735',\n         'name': 'Park',\n         'pluralName': 'Parks',\n         'shortName': 'Park',\n         'icon': {'prefix': 'https://ss3.4sqi.net/img/categories_v2/parks_outdoors/park_',\n          'suffix': '.png'},\n         'primary': True}],\n       'photos': {'count': 0, 'groups': []}},\n      'referralId': 'e-0-4ba011c2f964a5204a5737e3-1'},\n     {'reasons': {'count': 0,\n       'items': [{'summary': 'This spot is popular',\n         'type': 'general',\n         'reasonName': 'globalInteractionReason'}]},\n      'venue': {'id': '4adb2fd3f964a520c42421e3',\n       'name': 'Homeway Restaurant & Brunch',\n       'location': {'address': '955 Mount Pleasant',\n        'crossStreet': 'Mount Pleasant & Erskine',\n        'lat': 43.71264120397444,\n        'lng': -79.39155655199944,\n        'labeledLatLngs': [{'label': 'display',\n          'lat': 43.71264120397444,\n          'lng': -79.39155655199944}],\n        'distance': 110,\n        'postalCode': 'M4P 2L7',\n        'cc': 'CA',\n        'city': 'Toronto',\n        'state': 'ON',\n        'country': 'Canada',\n        'formattedAddress': ['955 Mount Pleasant (Mount Pleasant & Erskine)',\n         'Toronto ON M4P 2L7',\n         'Canada']},\n       'categories': [{'id': '4bf58dd8d48988d143941735',\n         'name': 'Breakfast Spot',\n         'pluralName': 'Breakfast Spots',\n         'shortName': 'Breakfast',\n         'icon': {'prefix': 'https://ss3.4sqi.net/img/categories_v2/food/breakfast_',\n          'suffix': '.png'},\n         'primary': True}],\n       'photos': {'count': 0, 'groups': []}},\n      'referralId': 'e-0-4adb2fd3f964a520c42421e3-2'},\n     {'reasons': {'count': 0,\n       'items': [{'summary': 'This spot is popular',\n         'type': 'general',\n         'reasonName': 'globalInteractionReason'}]},\n      'venue': {'id': '560f20eb498ef7d04038f8cd',\n       'name': 'Winners',\n       'location': {'lat': 43.71323606413252,\n        'lng': -79.3938728363979,\n        'labeledLatLngs': [{'label': 'display',\n          'lat': 43.71323606413252,\n          'lng': -79.3938728363979}],\n        'distance': 300,\n        'cc': 'CA',\n        'country': 'Canada',\n        'formattedAddress': ['Canada']},\n       'categories': [{'id': '4bf58dd8d48988d1f6941735',\n         'name': 'Department Store',\n         'pluralName': 'Department Stores',\n         'shortName': 'Department Store',\n         'icon': {'prefix': 'https://ss3.4sqi.net/img/categories_v2/shops/departmentstore_',\n          'suffix': '.png'},\n         'primary': True}],\n       'photos': {'count': 0, 'groups': []}},\n      'referralId': 'e-0-560f20eb498ef7d04038f8cd-3'},\n     {'reasons': {'count': 0,\n       'items': [{'summary': 'This spot is popular',\n         'type': 'general',\n         'reasonName': 'globalInteractionReason'}]},\n      'venue': {'id': '4b7810c3f964a52030b42ee3',\n       'name': 'Best Western Roehampton Hotel & Suites',\n       'location': {'address': '808 Mount Pleasant Rd',\n        'lat': 43.7088783,\n        'lng': -79.3908798,\n        'labeledLatLngs': [{'label': 'display',\n          'lat': 43.7088783,\n          'lng': -79.3908798}],\n        'distance': 434,\n        'postalCode': 'M4P 2L2',\n        'cc': 'CA',\n        'city': 'Toronto',\n        'state': 'ON',\n        'country': 'Canada',\n        'formattedAddress': ['808 Mount Pleasant Rd',\n         'Toronto ON M4P 2L2',\n         'Canada']},\n       'categories': [{'id': '4bf58dd8d48988d1fa931735',\n         'name': 'Hotel',\n         'pluralName': 'Hotels',\n         'shortName': 'Hotel',\n         'icon': {'prefix': 'https://ss3.4sqi.net/img/categories_v2/travel/hotel_',\n          'suffix': '.png'},\n         'primary': True}],\n       'photos': {'count': 0, 'groups': []}},\n      'referralId': 'e-0-4b7810c3f964a52030b42ee3-4'},\n     {'reasons': {'count': 0,\n       'items': [{'summary': 'This spot is popular',\n         'type': 'general',\n         'reasonName': 'globalInteractionReason'}]},\n      'venue': {'id': '4b0b3691f964a520c62e23e3',\n       'name': 'Subway',\n       'location': {'address': '250 Eglinton Ave East',\n        'lat': 43.7084743635371,\n        'lng': -79.39067425664052,\n        'labeledLatLngs': [{'label': 'display',\n          'lat': 43.7084743635371,\n          'lng': -79.39067425664052}],\n        'distance': 477,\n        'postalCode': 'M4P 1K2',\n        'cc': 'CA',\n        'city': 'Toronto',\n        'state': 'ON',\n        'country': 'Canada',\n        'formattedAddress': ['250 Eglinton Ave East',\n         'Toronto ON M4P 1K2',\n         'Canada']},\n       'categories': [{'id': '4bf58dd8d48988d1c5941735',\n         'name': 'Sandwich Place',\n         'pluralName': 'Sandwich Places',\n         'shortName': 'Sandwiches',\n         'icon': {'prefix': 'https://ss3.4sqi.net/img/categories_v2/food/deli_',\n          'suffix': '.png'},\n         'primary': True}],\n       'photos': {'count': 0, 'groups': []}},\n      'referralId': 'e-0-4b0b3691f964a520c62e23e3-5'},\n     {'reasons': {'count': 0,\n       'items': [{'summary': 'This spot is popular',\n         'type': 'general',\n         'reasonName': 'globalInteractionReason'}]},\n      'venue': {'id': '4c3f2724db3b1b8d635e6695',\n       'name': '900 Mount Pleasant - Residents Gym',\n       'location': {'address': '900 Mount Pleasant Road',\n        'lat': 43.71167058860572,\n        'lng': -79.3917671882441,\n        'labeledLatLngs': [{'label': 'display',\n          'lat': 43.71167058860572,\n          'lng': -79.3917671882441}],\n        'distance': 174,\n        'postalCode': 'M4P 3J9',\n        'cc': 'CA',\n        'city': 'Toronto',\n        'state': 'ON',\n        'country': 'Canada',\n        'formattedAddress': ['900 Mount Pleasant Road',\n         'Toronto ON M4P 3J9',\n         'Canada']},\n       'categories': [{'id': '4bf58dd8d48988d175941735',\n         'name': 'Gym / Fitness Center',\n         'pluralName': 'Gyms or Fitness Centers',\n         'shortName': 'Gym / Fitness',\n         'icon': {'prefix': 'https://ss3.4sqi.net/img/categories_v2/building/gym_',\n          'suffix': '.png'},\n         'primary': True}],\n       'photos': {'count': 0, 'groups': []}},\n      'referralId': 'e-0-4c3f2724db3b1b8d635e6695-6'}]}]}}"
                    },
                    "execution_count": 27,
                    "metadata": {},
                    "output_type": "execute_result"
                }
            ],
            "source": "Finalresults = requests.get(url).json()\nFinalresults\n"
        },
        {
            "cell_type": "code",
            "execution_count": 28,
            "metadata": {},
            "outputs": [],
            "source": "def get_category_type(row):\n    try:\n        categories_list = row['categories']\n    except:\n        categories_list = row['venue.categories']\n        \n    if len(categories_list) == 0:\n        return None\n    else:\n        return categories_list[0]['name']"
        },
        {
            "cell_type": "code",
            "execution_count": 29,
            "metadata": {},
            "outputs": [
                {
                    "name": "stderr",
                    "output_type": "stream",
                    "text": "/home/jupyterlab/conda/envs/python/lib/python3.6/site-packages/ipykernel_launcher.py:2: FutureWarning: pandas.io.json.json_normalize is deprecated, use pandas.json_normalize instead\n  \n"
                },
                {
                    "data": {
                        "text/html": "<div>\n<style scoped>\n    .dataframe tbody tr th:only-of-type {\n        vertical-align: middle;\n    }\n\n    .dataframe tbody tr th {\n        vertical-align: top;\n    }\n\n    .dataframe thead th {\n        text-align: right;\n    }\n</style>\n<table border=\"1\" class=\"dataframe\">\n  <thead>\n    <tr style=\"text-align: right;\">\n      <th></th>\n      <th>name</th>\n      <th>categories</th>\n      <th>lat</th>\n      <th>lng</th>\n    </tr>\n  </thead>\n  <tbody>\n    <tr>\n      <th>0</th>\n      <td>Summerhill Market North</td>\n      <td>Food &amp; Drink Shop</td>\n      <td>43.715499</td>\n      <td>-79.392881</td>\n    </tr>\n    <tr>\n      <th>1</th>\n      <td>Sherwood Park</td>\n      <td>Park</td>\n      <td>43.716551</td>\n      <td>-79.387776</td>\n    </tr>\n    <tr>\n      <th>2</th>\n      <td>Homeway Restaurant &amp; Brunch</td>\n      <td>Breakfast Spot</td>\n      <td>43.712641</td>\n      <td>-79.391557</td>\n    </tr>\n    <tr>\n      <th>3</th>\n      <td>Winners</td>\n      <td>Department Store</td>\n      <td>43.713236</td>\n      <td>-79.393873</td>\n    </tr>\n    <tr>\n      <th>4</th>\n      <td>Best Western Roehampton Hotel &amp; Suites</td>\n      <td>Hotel</td>\n      <td>43.708878</td>\n      <td>-79.390880</td>\n    </tr>\n  </tbody>\n</table>\n</div>",
                        "text/plain": "                                     name         categories        lat  \\\n0                 Summerhill Market North  Food & Drink Shop  43.715499   \n1                           Sherwood Park               Park  43.716551   \n2             Homeway Restaurant & Brunch     Breakfast Spot  43.712641   \n3                                 Winners   Department Store  43.713236   \n4  Best Western Roehampton Hotel & Suites              Hotel  43.708878   \n\n         lng  \n0 -79.392881  \n1 -79.387776  \n2 -79.391557  \n3 -79.393873  \n4 -79.390880  "
                    },
                    "execution_count": 29,
                    "metadata": {},
                    "output_type": "execute_result"
                }
            ],
            "source": "NEARBYvenues = Finalresults['response']['groups'][0]['items']    \nNEAR_venues = json_normalize(NEARBYvenues) # flatten JSON\n\n# filter columns\nfiltered_columns = ['venue.name', 'venue.categories', 'venue.location.lat', 'venue.location.lng']\nNEAR_venues =NEAR_venues.loc[:, filtered_columns]\n\n# filter the category for each row\nNEAR_venues['venue.categories'] = NEAR_venues.apply(get_category_type, axis=1)\n\n# clean columns\nNEAR_venues.columns = [col.split(\".\")[-1] for col in NEAR_venues.columns]\n\nNEAR_venues.head()"
        }
    ],
    "metadata": {
        "kernelspec": {
            "display_name": "Python 3.6",
            "language": "python",
            "name": "python3"
        },
        "language_info": {
            "codemirror_mode": {
                "name": "ipython",
                "version": 3
            },
            "file_extension": ".py",
            "mimetype": "text/x-python",
            "name": "python",
            "nbconvert_exporter": "python",
            "pygments_lexer": "ipython3",
            "version": "3.6.9"
        }
    },
    "nbformat": 4,
    "nbformat_minor": 4
}